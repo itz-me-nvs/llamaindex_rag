{
 "cells": [
  {
   "cell_type": "code",
   "execution_count": 12,
   "metadata": {},
   "outputs": [
    {
     "data": {
      "text/plain": [
       "False"
      ]
     },
     "execution_count": 12,
     "metadata": {},
     "output_type": "execute_result"
    }
   ],
   "source": [
    "## Retrieval augmented generation\n",
    "\n",
    "import os\n",
    "from dotenv import load_dotenv\n",
    "load_dotenv()"
   ]
  },
  {
   "cell_type": "code",
   "execution_count": 13,
   "metadata": {},
   "outputs": [],
   "source": [
    "from llama_index.core import VectorStoreIndex,SimpleDirectoryReader,Settings\n",
    "from llama_index.embeddings.huggingface import HuggingFaceEmbedding\n",
    "from llama_index.llms.ollama import Ollama\n",
    "documents=SimpleDirectoryReader(\"data\").load_data()"
   ]
  },
  {
   "cell_type": "code",
   "execution_count": 14,
   "metadata": {},
   "outputs": [],
   "source": [
    "# config the llm & huggingface Embedding model\n",
    "Settings.llm=Ollama(model=\"llama3.1\",request_timeout=360.0)\n",
    "Settings.embed_model=HuggingFaceEmbedding(model_name=\"BAAI/bge-base-en-v1.5\")"
   ]
  },
  {
   "cell_type": "code",
   "execution_count": 15,
   "metadata": {},
   "outputs": [
    {
     "data": {
      "text/plain": [
       "[Document(id_='3be125ba-ff7e-44f3-adaf-4710f56a5d17', embedding=None, metadata={'page_label': '1', 'file_name': 'somatosensory.pdf', 'file_path': '/home/navas/Documents/Projects/LLM/llamaindex_rag/data/somatosensory.pdf', 'file_type': 'application/pdf', 'file_size': 145349, 'creation_date': '2024-12-16', 'last_modified_date': '2024-12-16'}, excluded_embed_metadata_keys=['file_name', 'file_type', 'file_size', 'creation_date', 'last_modified_date', 'last_accessed_date'], excluded_llm_metadata_keys=['file_name', 'file_type', 'file_size', 'creation_date', 'last_modified_date', 'last_accessed_date'], relationships={}, metadata_template='{key}: {value}', metadata_separator='\\n', text='This is a sample document to\\nshowcase page-based formatting. It\\ncontains a chapter from a Wikibook\\ncalled Sensory Systems. None of the\\ncontent has been changed in this\\narticle, but some content has been\\nremoved.\\nAnatomy of the Somatosensory System\\nFROM WIKIBOOKS1\\nOur somatosensory system consists of sensors in the skin\\nand sensors in our muscles, tendons, and joints. The re-\\nceptors in the skin, the so called cutaneous receptors, tell\\nus about temperature (thermoreceptors), pressure and sur-\\nface texture (mechano receptors), and pain (nociceptors).\\nThe receptors in muscles and joints provide information\\nabout muscle length, muscle tension, and joint angles.\\nCutaneous receptors\\nSensory information from Meissner corpuscles and rapidly\\nadapting afferents leads to adjustment of grip force when\\nobjects are lifted. These afferents respond with a brief\\nburst of action potentials when objects move a small dis-\\ntance during the early stages of lifting. In response to\\nFigure 1: Receptors in the hu-\\nman skin: Mechanoreceptors can\\nbe free receptors or encapsulated.\\nExamples for free receptors are\\nthe hair receptors at the roots of\\nhairs. Encapsulated receptors are\\nthe Pacinian corpuscles and the\\nreceptors in the glabrous (hair-\\nless) skin: Meissner corpuscles,\\nRuffini corpuscles and Merkel’s\\ndisks.\\nHairy skinGlabrous skin\\nEpidermis\\nDermis\\nPaciniancorpuscle\\nPapillary Ridges\\nSepta\\nRuffini’s corpuscle\\nHair receptor\\nMeissner’scorpuscleSebaceousgland\\nFree nerveendingMerkel’sreceptor\\n1 The following description is based on lecture notes from Laszlo Zaborszky, from Rutgers University.\\n1', mimetype='text/plain', start_char_idx=None, end_char_idx=None, metadata_seperator='\\n', text_template='{metadata_str}\\n\\n{content}'),\n",
       " Document(id_='2c0c0b6d-a14a-4282-aede-437f02217d04', embedding=None, metadata={'page_label': '2', 'file_name': 'somatosensory.pdf', 'file_path': '/home/navas/Documents/Projects/LLM/llamaindex_rag/data/somatosensory.pdf', 'file_type': 'application/pdf', 'file_size': 145349, 'creation_date': '2024-12-16', 'last_modified_date': '2024-12-16'}, excluded_embed_metadata_keys=['file_name', 'file_type', 'file_size', 'creation_date', 'last_modified_date', 'last_accessed_date'], excluded_llm_metadata_keys=['file_name', 'file_type', 'file_size', 'creation_date', 'last_modified_date', 'last_accessed_date'], relationships={}, metadata_template='{key}: {value}', metadata_separator='\\n', text='Figure 2: Mammalian muscle\\nspindle showing typical position\\nin a muscle (left), neuronal con-\\nnections in spinal cord (middle)\\nand expanded schematic (right).\\nThe spindle is a stretch receptor\\nwith its own motor supply con-\\nsisting of several intrafusal mus-\\ncle fibres. The sensory endings of\\na primary (group Ia) afferent and\\na secondary (group II) afferent\\ncoil around the non-contractile\\ncentral portions of the intrafusal\\nfibres.\\nrapidly adapting afferent activity, muscle force increases\\nreflexively until the gripped object no longer moves. Such\\na rapid response to a tactile stimulus is a clear indication\\nof the role played by somatosensory neurons in motor ac-\\ntivity.\\nThe slowly adapting Merkel’s receptors are responsible\\nfor form and texture perception. As would be expected for\\nreceptors mediating form perception, Merkel’s receptors\\nare present at high density in the digits and around the\\nmouth (50/mm² of skin surface), at lower density in oth-\\ner glabrous surfaces, and at very low density in hairy skin.\\nThis innervations density shrinks progressively with the\\npassage of time so that by the age of 50, the density in hu-\\nman digits is reduced to 10/mm². Unlike rapidly adapting\\naxons, slowly adapting fibers respond not only to the ini-\\ntial indentation of skin, but also to sustained indentation\\nup to several seconds in duration.\\nActivation of the rapidly adapting Pacinian corpuscles\\ngives a feeling of vibration, while the slowly adapting\\nRuffini corpuscles respond to the lataral movement or\\nstretching of skin.\\nNociceptors\\nNociceptors have free nerve endings. Functionally, skin\\nnociceptors are either high-threshold mechanoreceptors\\nFrom Wikibooks\\n2', mimetype='text/plain', start_char_idx=None, end_char_idx=None, metadata_seperator='\\n', text_template='{metadata_str}\\n\\n{content}'),\n",
       " Document(id_='26ad7cbe-8ba2-45c7-91ba-cca1e9c47946', embedding=None, metadata={'page_label': '3', 'file_name': 'somatosensory.pdf', 'file_path': '/home/navas/Documents/Projects/LLM/llamaindex_rag/data/somatosensory.pdf', 'file_type': 'application/pdf', 'file_size': 145349, 'creation_date': '2024-12-16', 'last_modified_date': '2024-12-16'}, excluded_embed_metadata_keys=['file_name', 'file_type', 'file_size', 'creation_date', 'last_modified_date', 'last_accessed_date'], excluded_llm_metadata_keys=['file_name', 'file_type', 'file_size', 'creation_date', 'last_modified_date', 'last_accessed_date'], relationships={}, metadata_template='{key}: {value}', metadata_separator='\\n', text='Rapidly adapting Slowly adapting\\nSurface receptor /\\nsmall receptive\\nfield\\nHair receptor, Meissner’s corpuscle: De-\\ntect an insect or a very fine vibration.\\nUsed for recognizing texture.\\nMerkel’s receptor: Used for spa-\\ntial details, e.g. a round surface\\nedge or “an X” in brail.\\nDeep receptor /\\nlarge receptive\\nfield\\nPacinian corpuscle: “A diffuse vibra-\\ntion” e.g. tapping with a pencil.\\nRuffini’s corpuscle: “A skin\\nstretch”. Used for joint position\\nin fingers.\\nTable 1\\nNotice how figure captions and\\nsidenotes are shown in the outside\\nmargin (on the left or right, depending\\non whether the page is left or right).\\nAlso, figures are floated to the top/\\nbottom of the page. Wide content, like\\nthe table and Figure 3, intrude into the\\noutside margins.\\nor polymodal receptors. Polymodal receptors respond not\\nonly to intense mechanical stimuli, but also to heat and\\nto noxious chemicals. These receptors respond to minute\\npunctures of the epithelium, with a response magnitude\\nthat depends on the degree of tissue deformation. They al-\\nso respond to temperatures in the range of 40–60°C, and\\nchange their response rates as a linear function of warm-\\ning (in contrast with the saturating responses displayed by\\nnon-noxious thermoreceptors at high temperatures).\\nPain signals can be separated into individual compo-\\nnents, corresponding to different types of nerve fibers\\nused for transmitting these signals. The rapidly transmit-\\nted signal, which often has high spatial resolution, is\\ncalled first pain or cutaneous pricking pain. It is well local-\\nized and easily tolerated. The much slower, highly affec-\\ntive component is called second pain or burning pain; it is\\npoorly localized and poorly tolerated. The third or deep\\npain, arising from viscera, musculature and joints, is also\\npoorly localized, can be chronic and is often associated\\nwith referred pain.\\nMuscle Spindles\\nScattered throughout virtually every striated muscle in the\\nbody are long, thin, stretch receptors called muscle spin-\\ndles. They are quite simple in principle, consisting of a few\\nsmall muscle fibers with a capsule surrounding the middle\\nthird of the fibers. These fibers are called intrafusal fibers,\\nin contrast to the ordinary extrafusal fibers. The ends of the\\nintrafusal fibers are attached to extrafusal fibers, so when-\\never the muscle is stretched, the intrafusal fibers are also\\nAnatomy of the Somatosensory System\\n3', mimetype='text/plain', start_char_idx=None, end_char_idx=None, metadata_seperator='\\n', text_template='{metadata_str}\\n\\n{content}'),\n",
       " Document(id_='1d0c6037-4479-4310-a056-1604cd0d4b38', embedding=None, metadata={'page_label': '4', 'file_name': 'somatosensory.pdf', 'file_path': '/home/navas/Documents/Projects/LLM/llamaindex_rag/data/somatosensory.pdf', 'file_type': 'application/pdf', 'file_size': 145349, 'creation_date': '2024-12-16', 'last_modified_date': '2024-12-16'}, excluded_embed_metadata_keys=['file_name', 'file_type', 'file_size', 'creation_date', 'last_modified_date', 'last_accessed_date'], excluded_llm_metadata_keys=['file_name', 'file_type', 'file_size', 'creation_date', 'last_modified_date', 'last_accessed_date'], relationships={}, metadata_template='{key}: {value}', metadata_separator='\\n', text='Forcecontrolsignal\\nDrivingsignal\\nLengthcontrolsignal\\nLoad\\nExternalforces\\nTendonorgansMuscle force\\nMusclelength\\nForce feedback\\nLength &velocityfeedback\\nForce (Golgi tendon organ)\\nSpindles\\nGamma bias\\nLength (secondary muscle-spindel afferents)Length error (primary muscle-spindel afferents)Velocity (primary muscle-spindel afferents)\\nMuscle\\nInter-neurons\\nFigure 3: Feedback loops for proprioceptive signals for the perception and control of limb move-\\nments. Arrows indicate excitatory connections; filled circles inhibitory connections.\\nFor more examples of how to use\\nHTML and CSS for paper-based\\npublishing, see css4.pub.\\nstretched. The central region of each intrafusal fiber has\\nfew myofilaments and is non-contractile, but it does have\\none or more sensory endings applied to it. When the mus-\\ncle is stretched, the central part of the intrafusal fiber is\\nstretched and each sensory ending fires impulses.\\nMuscle spindles also receive a motor innervation. The\\nlarge motor neurons that supply extrafusal muscle fibers\\nare called alpha motor neurons, while the smaller ones sup-\\nplying the contractile portions of intrafusal fibers are\\ncalled gamma neurons. Gamma motor neurons can regu-\\nlate the sensitivity of the muscle spindle so that this sensi-\\ntivity can be maintained at any given muscle length.\\nJoint receptors\\nThe joint receptors are low-threshold mechanoreceptors\\nand have been divided into four groups. They signal differ-\\nent characteristics of joint function (position, movements,\\ndirection and speed of movements). The free receptors or\\ntype 4 joint receptors are nociceptors.\\nFrom Wikibooks\\n4', mimetype='text/plain', start_char_idx=None, end_char_idx=None, metadata_seperator='\\n', text_template='{metadata_str}\\n\\n{content}')]"
      ]
     },
     "execution_count": 15,
     "metadata": {},
     "output_type": "execute_result"
    }
   ],
   "source": [
    "documents"
   ]
  },
  {
   "cell_type": "code",
   "execution_count": 16,
   "metadata": {},
   "outputs": [
    {
     "name": "stderr",
     "output_type": "stream",
     "text": [
      "Parsing nodes: 100%|██████████| 4/4 [00:00<00:00, 1784.62it/s]\n",
      "Generating embeddings: 100%|██████████| 4/4 [00:01<00:00,  3.09it/s]\n"
     ]
    }
   ],
   "source": [
    "index=VectorStoreIndex.from_documents(documents,show_progress=True)\n",
    "query_engine=index.as_query_engine()"
   ]
  },
  {
   "cell_type": "code",
   "execution_count": 17,
   "metadata": {},
   "outputs": [],
   "source": [
    "from llama_index.core.retrievers import VectorIndexRetriever\n",
    "from llama_index.core.query_engine import RetrieverQueryEngine\n",
    "from llama_index.core.indices.postprocessor import SimilarityPostprocessor\n",
    "\n",
    "retriever=VectorIndexRetriever(index=index,similarity_top_k=4)\n",
    "postprocessor=SimilarityPostprocessor(similarity_cutoff=0.20)\n",
    "\n",
    "query_engine=RetrieverQueryEngine(retriever=retriever,\n",
    "                                  node_postprocessors=[postprocessor])"
   ]
  },
  {
   "cell_type": "code",
   "execution_count": 18,
   "metadata": {},
   "outputs": [],
   "source": [
    "response=query_engine.query(\"What is heading of the document?\")"
   ]
  },
  {
   "cell_type": "code",
   "execution_count": 19,
   "metadata": {},
   "outputs": [
    {
     "name": "stdout",
     "output_type": "stream",
     "text": [
      "Final Response: Anatomy of the Somatosensory System\n",
      "______________________________________________________________________\n",
      "Source Node 1/4\n",
      "Node ID: 6d190f47-20db-4ccf-a2e1-547fd12cbd11\n",
      "Similarity: 0.5196092060681182\n",
      "Text: This is a sample document to showcase page-based formatting. It\n",
      "contains a chapter from a Wikibook called Sensory Systems. None of the\n",
      "content has been changed in this article, but some content has been\n",
      "removed. Anatomy of the Somatosensory System FROM WIKIBOOKS1 Our\n",
      "somatosensory system consists of sensors in the skin and sensors in\n",
      "our muscles...\n",
      "______________________________________________________________________\n",
      "Source Node 2/4\n",
      "Node ID: 2fbb21c4-d588-4062-8649-36e67588e9f8\n",
      "Similarity: 0.4831473282380506\n",
      "Text: Rapidly adapting Slowly adapting Surface receptor / small\n",
      "receptive field Hair receptor, Meissner’s corpuscle: De- tect an\n",
      "insect or a very fine vibration. Used for recognizing texture.\n",
      "Merkel’s receptor: Used for spa- tial details, e.g. a round surface\n",
      "edge or “an X” in brail. Deep receptor / large receptive field\n",
      "Pacinian corpuscle: “A diffuse...\n",
      "______________________________________________________________________\n",
      "Source Node 3/4\n",
      "Node ID: be4e23ef-1651-4ec1-9492-d7c1c778b0d7\n",
      "Similarity: 0.46261490189578747\n",
      "Text: Forcecontrolsignal Drivingsignal Lengthcontrolsignal Load\n",
      "Externalforces TendonorgansMuscle force Musclelength Force feedback\n",
      "Length &velocityfeedback Force (Golgi tendon organ) Spindles Gamma\n",
      "bias Length (secondary muscle-spindel afferents)Length error (primary\n",
      "muscle-spindel afferents)Velocity (primary muscle-spindel afferents)\n",
      "Muscle Inter-ne...\n",
      "______________________________________________________________________\n",
      "Source Node 4/4\n",
      "Node ID: 82198c84-19b8-4280-925f-e509ca76d515\n",
      "Similarity: 0.4560110643567958\n",
      "Text: Figure 2: Mammalian muscle spindle showing typical position in a\n",
      "muscle (left), neuronal con- nections in spinal cord (middle) and\n",
      "expanded schematic (right). The spindle is a stretch receptor with its\n",
      "own motor supply con- sisting of several intrafusal mus- cle fibres.\n",
      "The sensory endings of a primary (group Ia) afferent and a secondary\n",
      "(group ...\n"
     ]
    }
   ],
   "source": [
    "from llama_index.core.response.pprint_utils import pprint_response\n",
    "pprint_response(response,show_source=True)\n",
    "# print(response)"
   ]
  },
  {
   "cell_type": "code",
   "execution_count": 20,
   "metadata": {},
   "outputs": [],
   "source": [
    "import os.path\n",
    "from llama_index.core import StorageContext,load_index_from_storage\n",
    "\n",
    "# check if storage already exists\n",
    "PERSIST_DIR=\"./storage\"\n",
    "if not os.path.exists(PERSIST_DIR):\n",
    "    documents=SimpleDirectoryReader(\"data\").load_data()\n",
    "    index=VectorStoreIndex.from_documents(documents)\n",
    "    # store it for later\n",
    "    index.storage_context.persist(persist_dir=PERSIST_DIR)\n",
    "else:\n",
    "    storage_context=StorageContext.from_defaults(persist_dir=PERSIST_DIR)\n",
    "    index=load_index_from_storage(storage_context)\n",
    "\n",
    "# create query engine from index.\n",
    "query_engine=index.as_query_engine();\n",
    "response=query_engine.query(\"What is Somatosensory System?\")\n",
    "\n",
    "\n"
   ]
  },
  {
   "cell_type": "code",
   "execution_count": 21,
   "metadata": {},
   "outputs": [
    {
     "name": "stdout",
     "output_type": "stream",
     "text": [
      "The somatosensory system consists of sensors in the skin and muscles that provide information about temperature, pressure, surface texture, pain, muscle length, tension, and joint angles. It allows us to perceive and respond to various stimuli from our environment and body.\n"
     ]
    }
   ],
   "source": [
    "print(response)"
   ]
  }
 ],
 "metadata": {
  "kernelspec": {
   "display_name": "venv",
   "language": "python",
   "name": "python3"
  },
  "language_info": {
   "codemirror_mode": {
    "name": "ipython",
    "version": 3
   },
   "file_extension": ".py",
   "mimetype": "text/x-python",
   "name": "python",
   "nbconvert_exporter": "python",
   "pygments_lexer": "ipython3",
   "version": "3.10.12"
  }
 },
 "nbformat": 4,
 "nbformat_minor": 2
}
